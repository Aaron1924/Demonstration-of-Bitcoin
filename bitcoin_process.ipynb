{
 "cells": [
  {
   "cell_type": "markdown",
   "metadata": {},
   "source": [
    "# Bitcoin - Demo Breakdown\n"
   ]
  },
  {
   "cell_type": "markdown",
   "metadata": {},
   "source": [
    "* Step 1: SHA-256 Hashing: Demonstrate cryptographic hashing.\n",
    "* Step 2: Creating Transactions: Build simple transactions.\n",
    "* Step 3: Building Blocks: Create blocks that contain transactions and link them.\n",
    "* Step 4: Proof of Work (Mining): Simulate mining by finding a valid hash.\n",
    "* Step 5: Constructing the Blockchain: Chain the blocks together and ensure validity.\n",
    "* Conclusion: Final demonstration of the blockchain and a note on immutability and security."
   ]
  },
  {
   "cell_type": "code",
   "execution_count": 1,
   "metadata": {},
   "outputs": [
    {
     "name": "stdout",
     "output_type": "stream",
     "text": [
      "Requirement already satisfied: ecdsa in c:\\users\\pkhoa\\appdata\\local\\programs\\python\\python312\\lib\\site-packages (0.19.0)\n",
      "Requirement already satisfied: base58 in c:\\users\\pkhoa\\appdata\\local\\programs\\python\\python312\\lib\\site-packages (2.1.1)\n",
      "Requirement already satisfied: six>=1.9.0 in c:\\users\\pkhoa\\appdata\\local\\programs\\python\\python312\\lib\\site-packages (from ecdsa) (1.16.0)\n",
      "Note: you may need to restart the kernel to use updated packages.\n"
     ]
    },
    {
     "name": "stderr",
     "output_type": "stream",
     "text": [
      "\n",
      "[notice] A new release of pip is available: 24.0 -> 24.2\n",
      "[notice] To update, run: python.exe -m pip install --upgrade pip\n"
     ]
    }
   ],
   "source": [
    "pip install ecdsa base58"
   ]
  },
  {
   "cell_type": "code",
   "execution_count": 2,
   "metadata": {},
   "outputs": [],
   "source": [
    "import ecdsa\n",
    "import base58\n",
    "import hashlib"
   ]
  },
  {
   "cell_type": "markdown",
   "metadata": {},
   "source": [
    "## Step 1: Generate a random private key, and derive the public key, and address from it \n",
    "Using ecdsa and hashlib libraries, we can generate a random private key, and derive the public key, and address from it."
   ]
  },
  {
   "cell_type": "code",
   "execution_count": 3,
   "metadata": {},
   "outputs": [
    {
     "name": "stdout",
     "output_type": "stream",
     "text": [
      "Private Key (hex): c98ad27f96907a9ca818c4c8c1e3ee588c3faf7cf7ef3bb600e0360b428f2341\n",
      "Public Key (hex): 048871e6491ad35921e61c4ab271cf1057aaf74327236055eb5d527e8427ef5513e1205e318571ccc72e6c4c5231dcd60bb5894ddd47c0a9805ff258f1ad0b369d\n",
      "Public Key Hash: a07cb29a559df2b57928f257460c6d7c426123f0\n",
      "Public Key Hash with Version: 00a07cb29a559df2b57928f257460c6d7c426123f0\n",
      "Checksum: f5c02cea\n",
      "Base58 Check Encoded Address: 1FdaVqeNQMNtByAPkpCpMbFwK4q81XZW1w\n"
     ]
    }
   ],
   "source": [
    "# Generate a private key\n",
    "private_key = ecdsa.SigningKey.generate(curve=ecdsa.SECP256k1)\n",
    "private_key_hex = private_key.to_string().hex()\n",
    "print(\"Private Key (hex):\", private_key_hex)\n",
    "\n",
    "# Derive the public key from the private key\n",
    "public_key = private_key.get_verifying_key()\n",
    "public_key_hex = '04'+ public_key.to_string().hex()\n",
    "print(\"Public Key (hex):\", public_key_hex)\n",
    "\n",
    "#generate bitcoin address from public key p2pkh\n",
    "ripemd160 = hashlib.new('ripemd160')\n",
    "ripemd160.update(hashlib.sha256(bytes.fromhex(public_key_hex)).digest())\n",
    "public_key_hash = ripemd160.digest()\n",
    "print(\"Public Key Hash:\", public_key_hash.hex())\n",
    "\n",
    "#add version byte\n",
    "version = b'\\x00'\n",
    "public_key_hash_with_version = version + public_key_hash\n",
    "print(\"Public Key Hash with Version:\", public_key_hash_with_version.hex())\n",
    "\n",
    "#calculate checksum\n",
    "checksum = hashlib.sha256(hashlib.sha256(public_key_hash_with_version).digest()).digest()[:4]\n",
    "print(\"Checksum:\", checksum.hex())\n",
    "\n",
    "#append checksum to public key hash with version\n",
    "address = public_key_hash_with_version + checksum\n",
    "\n",
    "#base58 check encode\n",
    "address = base58.b58encode(address)\n",
    "print(\"Base58 Check Encoded Address:\", address.decode())"
   ]
  },
  {
   "cell_type": "markdown",
   "metadata": {},
   "source": [
    "## Step 2: Create a UTXO (Unspent Transaction Output) \n"
   ]
  },
  {
   "cell_type": "code",
   "execution_count": 9,
   "metadata": {},
   "outputs": [],
   "source": [
    "class Wallet:\n",
    "    def __init__(self):\n",
    "        # Generate private and public keys upon wallet creation\n",
    "        self.private_key = self.generate_private_key()\n",
    "        self.public_key = self.generate_public_key()\n",
    "        self.address = self.generate_address()\n",
    "        self.utxos = []  # Store UTXOs related to this wallet\n",
    "\n",
    "    def generate_private_key(self):\n",
    "        # Generate a private key using secp256k1 elliptic curve\n",
    "        private_key = ecdsa.SigningKey.generate(curve=ecdsa.SECP256k1)\n",
    "        return private_key\n",
    "    \n",
    "    def generate_public_key(self):\n",
    "        # Derive the public key from the private key\n",
    "        public_key = self.private_key.get_verifying_key()\n",
    "        # Return uncompressed public key with '04' prefix\n",
    "        return '04' + public_key.to_string().hex()\n",
    "    \n",
    "    def generate_address(self):\n",
    "        # Generate a Bitcoin address from the public key (P2PKH)\n",
    "        ripemd160 = hashlib.new('ripemd160')\n",
    "        ripemd160.update(hashlib.sha256(bytes.fromhex(self.public_key)).digest())\n",
    "        public_key_hash = ripemd160.digest()\n",
    "        \n",
    "        # Add the version byte (0x00 for mainnet)\n",
    "        version = b'\\x00'\n",
    "        public_key_hash_with_version = version + public_key_hash\n",
    "        \n",
    "        # Compute checksum (double SHA-256)\n",
    "        checksum = hashlib.sha256(hashlib.sha256(public_key_hash_with_version).digest()).digest()[:4]\n",
    "        \n",
    "        # Append the checksum to the public key hash with version byte\n",
    "        address_binary = public_key_hash_with_version + checksum\n",
    "        \n",
    "        # Return Base58Check encoded address\n",
    "        return base58.b58encode(address_binary).decode()\n",
    "\n",
    "    def get_balance(self):\n",
    "        # Calculate the balance by summing the amounts in UTXOs\n",
    "        balance = sum(utxo.amount for utxo in self.utxos)\n",
    "        return balance\n",
    "\n",
    "    def add_utxo(self, utxo):\n",
    "        # Add a new UTXO to the wallet\n",
    "        self.utxos.append(utxo)\n",
    "    \n",
    "    def create_transaction(self, amount, recipient_address, fee=0.001):\n",
    "        # Create a transaction using available UTXOs\n",
    "        total_required = amount + fee\n",
    "        if self.get_balance() < total_required:\n",
    "            raise Exception(\"Not enough balance\")\n",
    "\n",
    "        # Find UTXOs to cover the amount + fee\n",
    "        inputs = []\n",
    "        total_input = 0\n",
    "        for utxo in self.utxos:\n",
    "            inputs.append(utxo)\n",
    "            total_input += utxo.amount\n",
    "            if total_input >= total_required:\n",
    "                break\n",
    "    \n",
    "        # Remove used UTXOs from the wallet\n",
    "        for utxo in inputs:\n",
    "            self.utxos.remove(utxo)\n",
    "\n",
    "        # Create transaction outputs\n",
    "        outputs = [TransactionOutput(amount, recipient_address)]\n",
    "        change = total_input - total_required\n",
    "        if change > 0:\n",
    "            # Send the remaining balance (change) back to the wallet\n",
    "            change_output = TransactionOutput(change, self.address)\n",
    "            outputs.append(change_output)\n",
    "\n",
    "            # Add the change UTXO back to the wallet\n",
    "            new_change_utxo = UTXO(txid=\"new_txid\", index=1, amount=change, address=self.address)\n",
    "            self.utxos.append(new_change_utxo)\n",
    "\n",
    "        # Create a transaction object\n",
    "        transaction = Transaction(inputs, outputs)\n",
    "    \n",
    "        # Sign the transaction using the wallet's private key\n",
    "        transaction.sign_transaction(self.private_key)\n",
    "        return transaction\n",
    "\n",
    "\n",
    "    def __repr__(self):\n",
    "        return f\"Wallet(Address: {self.address}, Balance: {self.get_balance()} BTC)\"\n"
   ]
  },
  {
   "cell_type": "code",
   "execution_count": 5,
   "metadata": {},
   "outputs": [],
   "source": [
    "class UTXO:\n",
    "    def __init__(self, txid, index, amount, address):\n",
    "        self.txid = txid       # The transaction ID of the UTXO\n",
    "        self.index = index     # Output index in the transaction\n",
    "        self.amount = amount   # Amount of Bitcoin in this UTXO\n",
    "        self.address = address # The address that can spend this UTXO\n",
    "\n",
    "    def __repr__(self):\n",
    "        return f\"UTXO(txid={self.txid}, index={self.index}, amount={self.amount}, address={self.address})\"\n"
   ]
  },
  {
   "cell_type": "code",
   "execution_count": 6,
   "metadata": {},
   "outputs": [],
   "source": [
    "class TransactionInput:\n",
    "    def __init__(self, utxo):\n",
    "        self.txid = utxo.txid    # The transaction ID of the UTXO being spent\n",
    "        self.index = utxo.index  # The index of the UTXO in the previous transaction\n",
    "        self.amount = utxo.amount # The amount of Bitcoin in the UTXO\n",
    "        self.signature = None     # Signature will be added once signed\n",
    "    \n",
    "    def __repr__(self):\n",
    "        return f\"TransactionInput(txid={self.txid}, index={self.index}, amount={self.amount}, signature={self.signature})\"\n",
    "\n",
    "class TransactionOutput:\n",
    "    def __init__(self, amount, address):\n",
    "        self.amount = amount    # Amount of Bitcoin to be sent\n",
    "        self.address = address  # Receiver's Bitcoin address\n",
    "    \n",
    "    def __repr__(self):\n",
    "        return f\"TransactionOutput(amount={self.amount}, address={self.address})\"\n",
    "\n",
    "class Transaction:\n",
    "    def __init__(self, inputs, outputs):\n",
    "        self.inputs = inputs      # List of TransactionInput objects\n",
    "        self.outputs = outputs    # List of TransactionOutput objects\n",
    "        self.txid = self.calculate_txid()  # Transaction ID based on inputs and outputs\n",
    "\n",
    "    def calculate_txid(self):\n",
    "        # Hash of transaction data to generate a transaction ID\n",
    "        tx_data = str(self.inputs) + str(self.outputs)\n",
    "        return hashlib.sha256(tx_data.encode()).hexdigest()\n",
    "\n",
    "    def sign_transaction(self, private_key):\n",
    "        # Sign each input with the private key of the wallet\n",
    "        for tx_input in self.inputs:\n",
    "            message = f\"{tx_input.txid}:{tx_input.index}:{tx_input.amount}\".encode()\n",
    "            signature = private_key.sign(message)\n",
    "            tx_input.signature = signature.hex()\n",
    "\n",
    "    def verify_transaction(self, public_key):\n",
    "        # Verify the signature for each input using the public key\n",
    "        for tx_input in self.inputs:\n",
    "            message = f\"{tx_input.txid}:{tx_input.index}:{tx_input.amount}\".encode()\n",
    "            signature = bytes.fromhex(tx_input.signature)\n",
    "            if not public_key.verify(signature, message):\n",
    "                return False  # Invalid transaction if any signature fails\n",
    "        return True  # Valid transaction if all signatures are correct\n",
    "\n",
    "    def __repr__(self):\n",
    "        return f\"Transaction(txid={self.txid}, inputs={self.inputs}, outputs={self.outputs})\""
   ]
  },
  {
   "cell_type": "code",
   "execution_count": 23,
   "metadata": {},
   "outputs": [],
   "source": [
    "import time\n",
    "import hashlib\n",
    "\n",
    "class Block:\n",
    "    def __init__(self, index, previous_hash, transactions, difficulty=2):\n",
    "        self.index = index\n",
    "        self.timestamp = time.time()\n",
    "        self.transactions = transactions  # List of transactions in the block\n",
    "        self.previous_hash = previous_hash  # Hash of the previous block\n",
    "        self.nonce = 0\n",
    "        self.difficulty = difficulty  # Number of leading zeros required in the hash\n",
    "        self.hash = self.mine_block()  # Call mine_block to generate and set the hash\n",
    "\n",
    "    def calculate_hash(self):\n",
    "        # Hash the block’s content (transactions, previous hash, nonce)\n",
    "        block_data = str(self.index) + str(self.timestamp) + str(self.transactions) + self.previous_hash + str(self.nonce)\n",
    "        return hashlib.sha256(block_data.encode()).hexdigest()\n",
    "\n",
    "    def mine_block(self):\n",
    "        target = '0' * self.difficulty  # Hash must start with this many zeros\n",
    "        calculated_hash = self.calculate_hash()  # Start calculating the hash\n",
    "        while calculated_hash[:self.difficulty] != target:\n",
    "            self.nonce += 1\n",
    "            calculated_hash = self.calculate_hash()\n",
    "        return calculated_hash  # Set the final mined hash after PoW is done\n",
    "\n",
    "    def __repr__(self):\n",
    "        return f\"Block(index={self.index}, hash={self.hash}, previous_hash={self.previous_hash}, nonce={self.nonce})\"\n",
    "\n",
    "\n",
    "class Blockchain:\n",
    "    def __init__(self):\n",
    "        genesis_block = Block(0, \"0\" * 64, [], difficulty=2)\n",
    "        self.chain = [genesis_block]\n",
    "\n",
    "    def get_latest_block(self):\n",
    "        return self.chain[-1]\n",
    "\n",
    "    def add_block(self, transactions):\n",
    "        previous_hash = self.get_latest_block().hash\n",
    "        new_block = Block(index=len(self.chain), previous_hash=previous_hash, transactions=transactions)\n",
    "        self.chain.append(new_block)\n",
    "\n",
    "    def is_chain_valid(self):\n",
    "        for i in range(1, len(self.chain)):\n",
    "            current_block = self.chain[i]\n",
    "            previous_block = self.chain[i - 1]\n",
    "            if current_block.hash != current_block.calculate_hash():\n",
    "                return False\n",
    "            if current_block.previous_hash != previous_block.hash:\n",
    "                return False\n",
    "        return True\n"
   ]
  },
  {
   "cell_type": "code",
   "execution_count": 24,
   "metadata": {},
   "outputs": [],
   "source": [
    "class Script:\n",
    "    def __init__(self, public_key_hash):\n",
    "        # Locking script (scriptPubKey): requires signature and pubkey to unlock\n",
    "        self.scriptPubKey = f\"OP_DUP OP_HASH160 {public_key_hash} OP_EQUALVERIFY OP_CHECKSIG\"\n",
    "    \n",
    "    def validate(self, public_key, signature):\n",
    "        # Simulate script validation (simplified)\n",
    "        return hashlib.sha256(public_key.encode()).hexdigest() == signature\n",
    "\n"
   ]
  },
  {
   "cell_type": "code",
   "execution_count": 25,
   "metadata": {},
   "outputs": [
    {
     "name": "stdout",
     "output_type": "stream",
     "text": [
      "Generated Wallet Address: 1BSVH3RHPjJ8fBQXzyoMYr2er7bMRkEK7q\n",
      "Wallet Balance: 15 BTC\n"
     ]
    }
   ],
   "source": [
    "# Create a new wallet\n",
    "wallet = Wallet()\n",
    "\n",
    "# Add two UTXOs (Simulating receiving 10 BTC and 5 BTC)\n",
    "wallet.add_utxo(UTXO(\"txid1\", 0, 10, wallet.address))  # 10 BTC UTXO\n",
    "wallet.add_utxo(UTXO(\"txid2\", 1, 5, wallet.address))   # 5 BTC UTXO\n",
    "\n",
    "# Display wallet information\n",
    "print(f\"Generated Wallet Address: {wallet.address}\")\n",
    "print(f\"Wallet Balance: {wallet.get_balance()} BTC\")\n"
   ]
  },
  {
   "cell_type": "code",
   "execution_count": 26,
   "metadata": {},
   "outputs": [
    {
     "name": "stdout",
     "output_type": "stream",
     "text": [
      "Created Transaction:\n",
      "Transaction(txid=f1809de414c5aeaca7b29fa96cb3d3480bc27c839f58099d9a3b32ca0eba2868, inputs=[UTXO(txid=txid1, index=0, amount=10, address=1BSVH3RHPjJ8fBQXzyoMYr2er7bMRkEK7q), UTXO(txid=txid2, index=1, amount=5, address=1BSVH3RHPjJ8fBQXzyoMYr2er7bMRkEK7q)], outputs=[TransactionOutput(amount=12, address=1RecipientAddress), TransactionOutput(amount=2.9990000000000006, address=1BSVH3RHPjJ8fBQXzyoMYr2er7bMRkEK7q)])\n",
      "Is the transaction valid? True\n",
      "Wallet Balance after transaction: 2.9990000000000006 BTC\n"
     ]
    }
   ],
   "source": [
    "# Create a transaction to send 12 BTC to a recipient with a 0.001 BTC fee\n",
    "transaction = wallet.create_transaction(12, \"1RecipientAddress\", fee=0.001)\n",
    "\n",
    "# Display the created transaction\n",
    "print(\"Created Transaction:\")\n",
    "print(transaction)\n",
    "\n",
    "# Verify the transaction (using the wallet's public key)\n",
    "is_valid = transaction.verify_transaction(wallet.private_key.get_verifying_key())\n",
    "print(f\"Is the transaction valid? {is_valid}\")\n",
    "\n",
    "# Display wallet balance after creating the transaction\n",
    "print(f\"Wallet Balance after transaction: {wallet.get_balance()} BTC\")\n"
   ]
  },
  {
   "cell_type": "code",
   "execution_count": 27,
   "metadata": {},
   "outputs": [
    {
     "name": "stdout",
     "output_type": "stream",
     "text": [
      "Mined Block:\n",
      "Block(index=1, hash=000ab5918febe939d517cb51fd2ed57aa7ac644480a05349241d2a9cd0adfbed, previous_hash=0000000000000000000000000000000000000000000000000000000000000000, nonce=1297)\n"
     ]
    }
   ],
   "source": [
    "# Create a block with the transaction and mine it\n",
    "transactions = [transaction]\n",
    "block = Block(index=1, previous_hash=\"0\" * 64, transactions=transactions, difficulty=3)\n",
    "\n",
    "# Display the mined block\n",
    "print(\"Mined Block:\")\n",
    "print(block)\n"
   ]
  },
  {
   "cell_type": "code",
   "execution_count": 28,
   "metadata": {},
   "outputs": [
    {
     "name": "stdout",
     "output_type": "stream",
     "text": [
      "Is the blockchain valid? True\n",
      "Blockchain:\n",
      "Block(index=0, hash=00535f29c034c4f938b44cbc5dc1f990c59ef9b9daa155f335958155c7e833ec, previous_hash=0000000000000000000000000000000000000000000000000000000000000000, nonce=770)\n",
      "Block(index=1, hash=002de4505a60275a21343e483e6a94c39d140b3725af31991302d44075a601cd, previous_hash=00535f29c034c4f938b44cbc5dc1f990c59ef9b9daa155f335958155c7e833ec, nonce=209)\n"
     ]
    }
   ],
   "source": [
    "# Create a new blockchain\n",
    "blockchain = Blockchain()\n",
    "\n",
    "# Add the mined block to the blockchain\n",
    "blockchain.add_block(transactions)\n",
    "\n",
    "# Verify the integrity of the blockchain\n",
    "is_chain_valid = blockchain.is_chain_valid()\n",
    "print(f\"Is the blockchain valid? {is_chain_valid}\")\n",
    "\n",
    "# Display the blockchain\n",
    "print(\"Blockchain:\")\n",
    "for block in blockchain.chain:\n",
    "    print(block)\n"
   ]
  }
 ],
 "metadata": {
  "kernelspec": {
   "display_name": "Python 3",
   "language": "python",
   "name": "python3"
  },
  "language_info": {
   "codemirror_mode": {
    "name": "ipython",
    "version": 3
   },
   "file_extension": ".py",
   "mimetype": "text/x-python",
   "name": "python",
   "nbconvert_exporter": "python",
   "pygments_lexer": "ipython3",
   "version": "3.12.3"
  }
 },
 "nbformat": 4,
 "nbformat_minor": 2
}
